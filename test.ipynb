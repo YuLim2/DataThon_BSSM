{
  "nbformat": 4,
  "nbformat_minor": 0,
  "metadata": {
    "colab": {
      "name": "test.ipynb",
      "provenance": [],
      "mount_file_id": "1leCf5hQ9lCPYZXA1kBDfM6H__4TdOQ9e",
      "authorship_tag": "ABX9TyPx5vnlu3FamBgTLdUV7rxr",
      "include_colab_link": true
    },
    "kernelspec": {
      "name": "python3",
      "display_name": "Python 3"
    },
    "language_info": {
      "name": "python"
    }
  },
  "cells": [
    {
      "cell_type": "markdown",
      "metadata": {
        "id": "view-in-github",
        "colab_type": "text"
      },
      "source": [
        "<a href=\"https://colab.research.google.com/github/YuLim2/DataThon_BSSM/blob/master/test.ipynb\" target=\"_parent\"><img src=\"https://colab.research.google.com/assets/colab-badge.svg\" alt=\"Open In Colab\"/></a>"
      ]
    },
    {
      "cell_type": "code",
      "execution_count": 9,
      "metadata": {
        "id": "HnqFJXlMqCmC"
      },
      "outputs": [],
      "source": [
        "import pandas as pd\n",
        "import xgboost\n",
        "import matplotlib.pyplot as plt\n",
        "from sklearn.model_selection import train_test_split\n",
        "from sklearn.metrics import explained_variance_score"
      ]
    },
    {
      "cell_type": "code",
      "source": [
        "train_df = pd.read_csv(\"/content/drive/MyDrive/dataset/train.csv\")\n",
        "test_df = pd.read_csv(\"/content/drive/MyDrive/dataset/test.csv\")\n",
        "\n",
        "y_train = train_df.pop(\"body fat_%\")\n",
        "train_df = train_df.drop(columns=['gender'])\n",
        "test_df = test_df.drop(columns=['gender'])"
      ],
      "metadata": {
        "id": "oKL7j3RCqNGE"
      },
      "execution_count": 94,
      "outputs": []
    },
    {
      "cell_type": "code",
      "source": [
        "from sklearn.preprocessing import StandardScaler\n",
        "from sklearn.model_selection import train_test_split\n",
        "\n",
        "scaler = StandardScaler()\n",
        "columns = train_df.columns\n",
        "\n",
        "scaler.fit(train_df)\n",
        "\n",
        "train_df = scaler.transform(train_df)\n",
        "test_df = scaler.transform(test_df)\n",
        "\n",
        "train_df = pd.DataFrame(columns=columns, data=train_df)\n",
        "test_df = pd.DataFrame(columns=columns, data=test_df)\n",
        "\n",
        "print(train_df)\n",
        "print(test_df)\n",
        "\n",
        "x_train, x_test = train_df, test_df"
      ],
      "metadata": {
        "colab": {
          "base_uri": "https://localhost:8080/"
        },
        "id": "rNp2nx9BtlTU",
        "outputId": "6562e5b9-39a3-4d1e-d9fb-6cfc7f058ad7"
      },
      "execution_count": 99,
      "outputs": [
        {
          "output_type": "stream",
          "name": "stdout",
          "text": [
            "           age  height_cm  ...  sit-ups counts  broad jump_cm\n",
            "0    -1.017300   0.607924  ...        1.208186       1.071876\n",
            "1    -0.943974   1.544615  ...       -0.128137       1.597582\n",
            "2    -0.064058  -0.245770  ...        0.012529      -0.104703\n",
            "3    -1.090627  -0.328768  ...       -0.690799      -0.179804\n",
            "4     1.769101  -2.830565  ...       -2.308454      -1.606719\n",
            "...        ...        ...  ...             ...            ...\n",
            "9370 -1.163953   0.441928  ...        0.082861       0.370935\n",
            "9371 -0.577342  -0.174629  ...        0.786189       0.220734\n",
            "9372 -0.943974  -0.103488  ...        0.504858      -0.204838\n",
            "9373 -1.090627  -1.123178  ...        0.715857      -0.455174\n",
            "9374 -0.210711   0.655351  ...        0.786189       0.971742\n",
            "\n",
            "[9375 rows x 8 columns]\n",
            "           age  height_cm  ...  sit-ups counts  broad jump_cm\n",
            "0     0.375900  -1.170605  ...        0.364193       0.446036\n",
            "1    -0.870648   0.358930  ...        0.504858       0.521137\n",
            "2    -0.430690   0.074365  ...        1.419185       1.497447\n",
            "3     0.155921   0.252218  ...        0.153194       0.796506\n",
            "4     1.475795  -0.162772  ...       -2.800783      -3.133769\n",
            "...        ...        ...  ...             ...            ...\n",
            "4013 -1.017300  -0.352482  ...        0.856522      -0.104703\n",
            "4014 -1.017300   0.181077  ...        1.278519       0.095566\n",
            "4015  0.009268  -0.423623  ...       -0.198470      -0.830678\n",
            "4016 -1.090627   0.311502  ...        0.364193       1.297178\n",
            "4017 -1.017300   1.841037  ...        1.559850       1.297178\n",
            "\n",
            "[4018 rows x 8 columns]\n"
          ]
        }
      ]
    },
    {
      "cell_type": "code",
      "source": [
        "x_train, x_valid, y_train, y_valid = train_test_split(x_train, y_train, test_size=0.2, random_state=42)\n",
        "xgb_model = xgboost.XGBRegressor(min_child_weight=100, gamma=4)"
      ],
      "metadata": {
        "id": "Y1xXjdh-qqFQ"
      },
      "execution_count": 169,
      "outputs": []
    },
    {
      "cell_type": "code",
      "source": [
        "xgb_model = xgb_model.fit(x_train, y_train, eval_metric='mae')\n",
        "\n",
        "model_p = xgb_model.predict(x_valid)\n",
        "from sklearn.metrics import mean_absolute_error\n",
        "\n",
        "valid_mae = mean_absolute_error(y_valid, model_p)\n",
        "print('Validation MAE: ', valid_mae)"
      ],
      "metadata": {
        "colab": {
          "base_uri": "https://localhost:8080/"
        },
        "id": "7KmM4abwsoWT",
        "outputId": "7b31abae-3df5-46a9-b7f7-d5ab859c5384"
      },
      "execution_count": 170,
      "outputs": [
        {
          "output_type": "stream",
          "name": "stdout",
          "text": [
            "[05:52:39] WARNING: /workspace/src/objective/regression_obj.cu:152: reg:linear is now deprecated in favor of reg:squarederror.\n",
            "Validation MAE:  3.9\n"
          ]
        }
      ]
    },
    {
      "cell_type": "code",
      "source": [
        "preds = xgb_model.predict(x_test)\n",
        "\n",
        "submit = pd.read_csv('/content/drive/MyDrive/dataset/submit_sample.csv')\n",
        "submit['predict'] = preds\n",
        "submit\n",
        "submit.to_csv(\"./my_submit.csv\", index=False)"
      ],
      "metadata": {
        "id": "updkZ8QEz9Nw"
      },
      "execution_count": 128,
      "outputs": []
    }
  ]
}