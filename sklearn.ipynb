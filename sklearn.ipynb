{
  "nbformat": 4,
  "nbformat_minor": 0,
  "metadata": {
    "colab": {
      "name": "sklearn.ipynb",
      "provenance": [],
      "mount_file_id": "https://github.com/YuLim2/DataThon_BSSM/blob/master/sklearn.ipynb",
      "authorship_tag": "ABX9TyNHuhQYMH/9Nh2Js8+KBncl",
      "include_colab_link": true
    },
    "kernelspec": {
      "name": "python3",
      "display_name": "Python 3"
    },
    "language_info": {
      "name": "python"
    }
  },
  "cells": [
    {
      "cell_type": "markdown",
      "metadata": {
        "id": "view-in-github",
        "colab_type": "text"
      },
      "source": [
        "<a href=\"https://colab.research.google.com/github/YuLim2/DataThon_BSSM/blob/master/sklearn.ipynb\" target=\"_parent\"><img src=\"https://colab.research.google.com/assets/colab-badge.svg\" alt=\"Open In Colab\"/></a>"
      ]
    },
    {
      "cell_type": "code",
      "execution_count": 1,
      "metadata": {
        "colab": {
          "base_uri": "https://localhost:8080/",
          "height": 206
        },
        "id": "85bYPRa1Kt5Q",
        "outputId": "36f74d8d-9f2d-45cd-e114-2a5c8996281a"
      },
      "outputs": [
        {
          "output_type": "execute_result",
          "data": {
            "text/html": [
              "\n",
              "  <div id=\"df-d803c037-e1a7-4a90-8640-c638870d130b\">\n",
              "    <div class=\"colab-df-container\">\n",
              "      <div>\n",
              "<style scoped>\n",
              "    .dataframe tbody tr th:only-of-type {\n",
              "        vertical-align: middle;\n",
              "    }\n",
              "\n",
              "    .dataframe tbody tr th {\n",
              "        vertical-align: top;\n",
              "    }\n",
              "\n",
              "    .dataframe thead th {\n",
              "        text-align: right;\n",
              "    }\n",
              "</style>\n",
              "<table border=\"1\" class=\"dataframe\">\n",
              "  <thead>\n",
              "    <tr style=\"text-align: right;\">\n",
              "      <th></th>\n",
              "      <th>age</th>\n",
              "      <th>gender</th>\n",
              "      <th>height_cm</th>\n",
              "      <th>diastolic</th>\n",
              "      <th>systolic</th>\n",
              "      <th>gripForce</th>\n",
              "      <th>sit and bend forward_cm</th>\n",
              "      <th>sit-ups counts</th>\n",
              "      <th>broad jump_cm</th>\n",
              "      <th>body fat_%</th>\n",
              "    </tr>\n",
              "  </thead>\n",
              "  <tbody>\n",
              "    <tr>\n",
              "      <th>0</th>\n",
              "      <td>23.0</td>\n",
              "      <td>M</td>\n",
              "      <td>173.7</td>\n",
              "      <td>87.0</td>\n",
              "      <td>143.0</td>\n",
              "      <td>52.9</td>\n",
              "      <td>18.0</td>\n",
              "      <td>57.0</td>\n",
              "      <td>233.0</td>\n",
              "      <td>12.7</td>\n",
              "    </tr>\n",
              "    <tr>\n",
              "      <th>1</th>\n",
              "      <td>24.0</td>\n",
              "      <td>M</td>\n",
              "      <td>181.6</td>\n",
              "      <td>65.0</td>\n",
              "      <td>126.0</td>\n",
              "      <td>45.1</td>\n",
              "      <td>8.3</td>\n",
              "      <td>38.0</td>\n",
              "      <td>254.0</td>\n",
              "      <td>3.5</td>\n",
              "    </tr>\n",
              "    <tr>\n",
              "      <th>2</th>\n",
              "      <td>36.0</td>\n",
              "      <td>F</td>\n",
              "      <td>166.5</td>\n",
              "      <td>84.0</td>\n",
              "      <td>130.0</td>\n",
              "      <td>27.4</td>\n",
              "      <td>18.9</td>\n",
              "      <td>40.0</td>\n",
              "      <td>186.0</td>\n",
              "      <td>25.9</td>\n",
              "    </tr>\n",
              "    <tr>\n",
              "      <th>3</th>\n",
              "      <td>22.0</td>\n",
              "      <td>F</td>\n",
              "      <td>165.8</td>\n",
              "      <td>77.0</td>\n",
              "      <td>130.0</td>\n",
              "      <td>29.7</td>\n",
              "      <td>19.0</td>\n",
              "      <td>30.0</td>\n",
              "      <td>183.0</td>\n",
              "      <td>33.0</td>\n",
              "    </tr>\n",
              "    <tr>\n",
              "      <th>4</th>\n",
              "      <td>61.0</td>\n",
              "      <td>F</td>\n",
              "      <td>144.7</td>\n",
              "      <td>77.0</td>\n",
              "      <td>130.0</td>\n",
              "      <td>20.7</td>\n",
              "      <td>11.8</td>\n",
              "      <td>7.0</td>\n",
              "      <td>126.0</td>\n",
              "      <td>28.3</td>\n",
              "    </tr>\n",
              "  </tbody>\n",
              "</table>\n",
              "</div>\n",
              "      <button class=\"colab-df-convert\" onclick=\"convertToInteractive('df-d803c037-e1a7-4a90-8640-c638870d130b')\"\n",
              "              title=\"Convert this dataframe to an interactive table.\"\n",
              "              style=\"display:none;\">\n",
              "        \n",
              "  <svg xmlns=\"http://www.w3.org/2000/svg\" height=\"24px\"viewBox=\"0 0 24 24\"\n",
              "       width=\"24px\">\n",
              "    <path d=\"M0 0h24v24H0V0z\" fill=\"none\"/>\n",
              "    <path d=\"M18.56 5.44l.94 2.06.94-2.06 2.06-.94-2.06-.94-.94-2.06-.94 2.06-2.06.94zm-11 1L8.5 8.5l.94-2.06 2.06-.94-2.06-.94L8.5 2.5l-.94 2.06-2.06.94zm10 10l.94 2.06.94-2.06 2.06-.94-2.06-.94-.94-2.06-.94 2.06-2.06.94z\"/><path d=\"M17.41 7.96l-1.37-1.37c-.4-.4-.92-.59-1.43-.59-.52 0-1.04.2-1.43.59L10.3 9.45l-7.72 7.72c-.78.78-.78 2.05 0 2.83L4 21.41c.39.39.9.59 1.41.59.51 0 1.02-.2 1.41-.59l7.78-7.78 2.81-2.81c.8-.78.8-2.07 0-2.86zM5.41 20L4 18.59l7.72-7.72 1.47 1.35L5.41 20z\"/>\n",
              "  </svg>\n",
              "      </button>\n",
              "      \n",
              "  <style>\n",
              "    .colab-df-container {\n",
              "      display:flex;\n",
              "      flex-wrap:wrap;\n",
              "      gap: 12px;\n",
              "    }\n",
              "\n",
              "    .colab-df-convert {\n",
              "      background-color: #E8F0FE;\n",
              "      border: none;\n",
              "      border-radius: 50%;\n",
              "      cursor: pointer;\n",
              "      display: none;\n",
              "      fill: #1967D2;\n",
              "      height: 32px;\n",
              "      padding: 0 0 0 0;\n",
              "      width: 32px;\n",
              "    }\n",
              "\n",
              "    .colab-df-convert:hover {\n",
              "      background-color: #E2EBFA;\n",
              "      box-shadow: 0px 1px 2px rgba(60, 64, 67, 0.3), 0px 1px 3px 1px rgba(60, 64, 67, 0.15);\n",
              "      fill: #174EA6;\n",
              "    }\n",
              "\n",
              "    [theme=dark] .colab-df-convert {\n",
              "      background-color: #3B4455;\n",
              "      fill: #D2E3FC;\n",
              "    }\n",
              "\n",
              "    [theme=dark] .colab-df-convert:hover {\n",
              "      background-color: #434B5C;\n",
              "      box-shadow: 0px 1px 3px 1px rgba(0, 0, 0, 0.15);\n",
              "      filter: drop-shadow(0px 1px 2px rgba(0, 0, 0, 0.3));\n",
              "      fill: #FFFFFF;\n",
              "    }\n",
              "  </style>\n",
              "\n",
              "      <script>\n",
              "        const buttonEl =\n",
              "          document.querySelector('#df-d803c037-e1a7-4a90-8640-c638870d130b button.colab-df-convert');\n",
              "        buttonEl.style.display =\n",
              "          google.colab.kernel.accessAllowed ? 'block' : 'none';\n",
              "\n",
              "        async function convertToInteractive(key) {\n",
              "          const element = document.querySelector('#df-d803c037-e1a7-4a90-8640-c638870d130b');\n",
              "          const dataTable =\n",
              "            await google.colab.kernel.invokeFunction('convertToInteractive',\n",
              "                                                     [key], {});\n",
              "          if (!dataTable) return;\n",
              "\n",
              "          const docLinkHtml = 'Like what you see? Visit the ' +\n",
              "            '<a target=\"_blank\" href=https://colab.research.google.com/notebooks/data_table.ipynb>data table notebook</a>'\n",
              "            + ' to learn more about interactive tables.';\n",
              "          element.innerHTML = '';\n",
              "          dataTable['output_type'] = 'display_data';\n",
              "          await google.colab.output.renderOutput(dataTable, element);\n",
              "          const docLink = document.createElement('div');\n",
              "          docLink.innerHTML = docLinkHtml;\n",
              "          element.appendChild(docLink);\n",
              "        }\n",
              "      </script>\n",
              "    </div>\n",
              "  </div>\n",
              "  "
            ],
            "text/plain": [
              "    age gender  height_cm  ...  sit-ups counts  broad jump_cm  body fat_%\n",
              "0  23.0      M      173.7  ...            57.0          233.0        12.7\n",
              "1  24.0      M      181.6  ...            38.0          254.0         3.5\n",
              "2  36.0      F      166.5  ...            40.0          186.0        25.9\n",
              "3  22.0      F      165.8  ...            30.0          183.0        33.0\n",
              "4  61.0      F      144.7  ...             7.0          126.0        28.3\n",
              "\n",
              "[5 rows x 10 columns]"
            ]
          },
          "metadata": {},
          "execution_count": 1
        }
      ],
      "source": [
        "import pandas as pd\n",
        "import numpy as np\n",
        "import matplotlib.pyplot as plt\n",
        "import seaborn as sns\n",
        "\n",
        "from sklearn.preprocessing import StandardScaler\n",
        "\n",
        "import warnings\n",
        "warnings.filterwarnings(\"ignore\")\n",
        "\n",
        "path = '/content/drive/MyDrive/dataset/'\n",
        "\n",
        "train = pd.read_csv(path + 'train.csv')\n",
        "test = pd.read_csv(path + 'test.csv')\n",
        "sample_submission = pd.read_csv(path + 'submit_sample.csv')\n",
        "train.head()"
      ]
    },
    {
      "cell_type": "code",
      "source": [
        "print(train.shape)\n",
        "print(test.shape)"
      ],
      "metadata": {
        "colab": {
          "base_uri": "https://localhost:8080/"
        },
        "id": "jx2l0fs8LGGU",
        "outputId": "871344df-b8bc-44a0-9dd8-a0d37a86b380"
      },
      "execution_count": 2,
      "outputs": [
        {
          "output_type": "stream",
          "name": "stdout",
          "text": [
            "(9375, 10)\n",
            "(4018, 9)\n"
          ]
        }
      ]
    },
    {
      "cell_type": "code",
      "source": [
        "train['broad jump_cm'].value_counts()\n"
      ],
      "metadata": {
        "colab": {
          "base_uri": "https://localhost:8080/"
        },
        "id": "syJPOw85Lwph",
        "outputId": "c695623c-7044-4a45-a3f5-3eb5d26d56a5"
      },
      "execution_count": 3,
      "outputs": [
        {
          "output_type": "execute_result",
          "data": {
            "text/plain": [
              "220.0    128\n",
              "230.0    126\n",
              "211.0    124\n",
              "180.0    110\n",
              "200.0    108\n",
              "        ... \n",
              "284.0      1\n",
              "51.0       1\n",
              "282.0      1\n",
              "76.0       1\n",
              "299.0      1\n",
              "Name: broad jump_cm, Length: 235, dtype: int64"
            ]
          },
          "metadata": {},
          "execution_count": 3
        }
      ]
    },
    {
      "cell_type": "code",
      "source": [
        "#train.drop(['id'], axis = 1, inplace = True)\n",
        "#test.drop(['id'], axis = 1, inplace = True)\n",
        "\n",
        "discrete_names = [\"gender\"]\n",
        "continuous_names = [\"age\" , \"height_cm\", \"diastolic\", \"systolic\", \"gripForce\", \"sit and bend forward_cm\", \"sit-ups counts\", \"broad jump_cm\"]"
      ],
      "metadata": {
        "id": "bmr1oVBTLWLZ"
      },
      "execution_count": 4,
      "outputs": []
    },
    {
      "cell_type": "code",
      "source": [
        "train.info()"
      ],
      "metadata": {
        "colab": {
          "base_uri": "https://localhost:8080/"
        },
        "id": "U5ZHuifxMz8-",
        "outputId": "599f4eb3-b18e-4f6b-cafb-db76a1ff3a18"
      },
      "execution_count": 5,
      "outputs": [
        {
          "output_type": "stream",
          "name": "stdout",
          "text": [
            "<class 'pandas.core.frame.DataFrame'>\n",
            "RangeIndex: 9375 entries, 0 to 9374\n",
            "Data columns (total 10 columns):\n",
            " #   Column                   Non-Null Count  Dtype  \n",
            "---  ------                   --------------  -----  \n",
            " 0   age                      9375 non-null   float64\n",
            " 1   gender                   9375 non-null   object \n",
            " 2   height_cm                9375 non-null   float64\n",
            " 3   diastolic                9375 non-null   float64\n",
            " 4   systolic                 9375 non-null   float64\n",
            " 5   gripForce                9375 non-null   float64\n",
            " 6   sit and bend forward_cm  9375 non-null   float64\n",
            " 7   sit-ups counts           9375 non-null   float64\n",
            " 8   broad jump_cm            9375 non-null   float64\n",
            " 9   body fat_%               9375 non-null   float64\n",
            "dtypes: float64(9), object(1)\n",
            "memory usage: 732.5+ KB\n"
          ]
        }
      ]
    },
    {
      "cell_type": "code",
      "source": [
        "train[train[\"body fat_%\"].isnull()]"
      ],
      "metadata": {
        "colab": {
          "base_uri": "https://localhost:8080/",
          "height": 49
        },
        "id": "72Wafza-M8Hg",
        "outputId": "d899cc38-38b5-4809-f84b-b40b3593c9a9"
      },
      "execution_count": 6,
      "outputs": [
        {
          "output_type": "execute_result",
          "data": {
            "text/html": [
              "\n",
              "  <div id=\"df-8faf42ca-6a6c-4555-ae47-1ebfabec4ecd\">\n",
              "    <div class=\"colab-df-container\">\n",
              "      <div>\n",
              "<style scoped>\n",
              "    .dataframe tbody tr th:only-of-type {\n",
              "        vertical-align: middle;\n",
              "    }\n",
              "\n",
              "    .dataframe tbody tr th {\n",
              "        vertical-align: top;\n",
              "    }\n",
              "\n",
              "    .dataframe thead th {\n",
              "        text-align: right;\n",
              "    }\n",
              "</style>\n",
              "<table border=\"1\" class=\"dataframe\">\n",
              "  <thead>\n",
              "    <tr style=\"text-align: right;\">\n",
              "      <th></th>\n",
              "      <th>age</th>\n",
              "      <th>gender</th>\n",
              "      <th>height_cm</th>\n",
              "      <th>diastolic</th>\n",
              "      <th>systolic</th>\n",
              "      <th>gripForce</th>\n",
              "      <th>sit and bend forward_cm</th>\n",
              "      <th>sit-ups counts</th>\n",
              "      <th>broad jump_cm</th>\n",
              "      <th>body fat_%</th>\n",
              "    </tr>\n",
              "  </thead>\n",
              "  <tbody>\n",
              "  </tbody>\n",
              "</table>\n",
              "</div>\n",
              "      <button class=\"colab-df-convert\" onclick=\"convertToInteractive('df-8faf42ca-6a6c-4555-ae47-1ebfabec4ecd')\"\n",
              "              title=\"Convert this dataframe to an interactive table.\"\n",
              "              style=\"display:none;\">\n",
              "        \n",
              "  <svg xmlns=\"http://www.w3.org/2000/svg\" height=\"24px\"viewBox=\"0 0 24 24\"\n",
              "       width=\"24px\">\n",
              "    <path d=\"M0 0h24v24H0V0z\" fill=\"none\"/>\n",
              "    <path d=\"M18.56 5.44l.94 2.06.94-2.06 2.06-.94-2.06-.94-.94-2.06-.94 2.06-2.06.94zm-11 1L8.5 8.5l.94-2.06 2.06-.94-2.06-.94L8.5 2.5l-.94 2.06-2.06.94zm10 10l.94 2.06.94-2.06 2.06-.94-2.06-.94-.94-2.06-.94 2.06-2.06.94z\"/><path d=\"M17.41 7.96l-1.37-1.37c-.4-.4-.92-.59-1.43-.59-.52 0-1.04.2-1.43.59L10.3 9.45l-7.72 7.72c-.78.78-.78 2.05 0 2.83L4 21.41c.39.39.9.59 1.41.59.51 0 1.02-.2 1.41-.59l7.78-7.78 2.81-2.81c.8-.78.8-2.07 0-2.86zM5.41 20L4 18.59l7.72-7.72 1.47 1.35L5.41 20z\"/>\n",
              "  </svg>\n",
              "      </button>\n",
              "      \n",
              "  <style>\n",
              "    .colab-df-container {\n",
              "      display:flex;\n",
              "      flex-wrap:wrap;\n",
              "      gap: 12px;\n",
              "    }\n",
              "\n",
              "    .colab-df-convert {\n",
              "      background-color: #E8F0FE;\n",
              "      border: none;\n",
              "      border-radius: 50%;\n",
              "      cursor: pointer;\n",
              "      display: none;\n",
              "      fill: #1967D2;\n",
              "      height: 32px;\n",
              "      padding: 0 0 0 0;\n",
              "      width: 32px;\n",
              "    }\n",
              "\n",
              "    .colab-df-convert:hover {\n",
              "      background-color: #E2EBFA;\n",
              "      box-shadow: 0px 1px 2px rgba(60, 64, 67, 0.3), 0px 1px 3px 1px rgba(60, 64, 67, 0.15);\n",
              "      fill: #174EA6;\n",
              "    }\n",
              "\n",
              "    [theme=dark] .colab-df-convert {\n",
              "      background-color: #3B4455;\n",
              "      fill: #D2E3FC;\n",
              "    }\n",
              "\n",
              "    [theme=dark] .colab-df-convert:hover {\n",
              "      background-color: #434B5C;\n",
              "      box-shadow: 0px 1px 3px 1px rgba(0, 0, 0, 0.15);\n",
              "      filter: drop-shadow(0px 1px 2px rgba(0, 0, 0, 0.3));\n",
              "      fill: #FFFFFF;\n",
              "    }\n",
              "  </style>\n",
              "\n",
              "      <script>\n",
              "        const buttonEl =\n",
              "          document.querySelector('#df-8faf42ca-6a6c-4555-ae47-1ebfabec4ecd button.colab-df-convert');\n",
              "        buttonEl.style.display =\n",
              "          google.colab.kernel.accessAllowed ? 'block' : 'none';\n",
              "\n",
              "        async function convertToInteractive(key) {\n",
              "          const element = document.querySelector('#df-8faf42ca-6a6c-4555-ae47-1ebfabec4ecd');\n",
              "          const dataTable =\n",
              "            await google.colab.kernel.invokeFunction('convertToInteractive',\n",
              "                                                     [key], {});\n",
              "          if (!dataTable) return;\n",
              "\n",
              "          const docLinkHtml = 'Like what you see? Visit the ' +\n",
              "            '<a target=\"_blank\" href=https://colab.research.google.com/notebooks/data_table.ipynb>data table notebook</a>'\n",
              "            + ' to learn more about interactive tables.';\n",
              "          element.innerHTML = '';\n",
              "          dataTable['output_type'] = 'display_data';\n",
              "          await google.colab.output.renderOutput(dataTable, element);\n",
              "          const docLink = document.createElement('div');\n",
              "          docLink.innerHTML = docLinkHtml;\n",
              "          element.appendChild(docLink);\n",
              "        }\n",
              "      </script>\n",
              "    </div>\n",
              "  </div>\n",
              "  "
            ],
            "text/plain": [
              "Empty DataFrame\n",
              "Columns: [age, gender, height_cm, diastolic, systolic, gripForce, sit and bend forward_cm, sit-ups counts, broad jump_cm, body fat_%]\n",
              "Index: []"
            ]
          },
          "metadata": {},
          "execution_count": 6
        }
      ]
    },
    {
      "cell_type": "code",
      "source": [
        "train[\"body fat_%\"].hist()"
      ],
      "metadata": {
        "colab": {
          "base_uri": "https://localhost:8080/",
          "height": 282
        },
        "id": "CQQSOlvFNYHU",
        "outputId": "5c953d04-381f-4f30-b72c-b14a3575b6d1"
      },
      "execution_count": 7,
      "outputs": [
        {
          "output_type": "execute_result",
          "data": {
            "text/plain": [
              "<matplotlib.axes._subplots.AxesSubplot at 0x7fa07bbb8c50>"
            ]
          },
          "metadata": {},
          "execution_count": 7
        },
        {
          "output_type": "display_data",
          "data": {
            "image/png": "[encoded data removed]",
            "text/plain": [
              "<Figure size 432x288 with 1 Axes>"
            ]
          },
          "metadata": {
            "needs_background": "light"
          }
        }
      ]
    },
    {
      "cell_type": "code",
      "source": [
        "plt.figure(figsize=(20,15))\n",
        "plt.suptitle(\"Histogram\", fontsize=40)\n",
        "\n",
        "for i in range(len(continuous_names)):\n",
        "    plt.subplot(2,4,i+1)\n",
        "    plt.title(continuous_names[i])\n",
        "    plt.hist(train[continuous_names[i]])"
      ],
      "metadata": {
        "colab": {
          "base_uri": "https://localhost:8080/",
          "height": 926
        },
        "id": "is2iEkYCO4_3",
        "outputId": "32b8e7f0-e7f5-4520-b0ca-9b177470c89a"
      },
      "execution_count": 8,
      "outputs": [
        {
          "output_type": "display_data",
          "data": {
            "image/png": "[encoded data removed]",
            "text/plain": [
              "<Figure size 1440x1080 with 8 Axes>"
            ]
          },
          "metadata": {
            "needs_background": "light"
          }
        }
      ]
    },
    {
      "cell_type": "code",
      "source": [
        "plt.figure(figsize=(15,10))\n",
        "ax = sns.heatmap(train.drop(discrete_names, axis = 1).corr(), annot=True)\n",
        "plt.show()"
      ],
      "metadata": {
        "colab": {
          "base_uri": "https://localhost:8080/",
          "height": 709
        },
        "id": "8YObNQMVN_Lt",
        "outputId": "b3405ff0-f53e-4939-9208-f0d5243bca80"
      },
      "execution_count": 9,
      "outputs": [
        {
          "output_type": "display_data",
          "data": {
            "image/png": "[encoded data removed]",
            "text/plain": [
              "<Figure size 1080x720 with 2 Axes>"
            ]
          },
          "metadata": {
            "needs_background": "light"
          }
        }
      ]
    },
    {
      "cell_type": "code",
      "source": [
        "plt.figure(figsize=(20,15))\n",
        "\n",
        "for i in range(len(discrete_names)):\n",
        "    plt.subplot(2,2,i+1)\n",
        "    plt.xlabel(discrete_names[i])\n",
        "    plt.ylabel('Body Mass (g)')\n",
        "    sns.violinplot(x= train[discrete_names[i]], y= train['body fat_%'])\n",
        "plt.tight_layout(rect=[0, 0.03, 1, 0.95])\n",
        "plt.show()"
      ],
      "metadata": {
        "colab": {
          "base_uri": "https://localhost:8080/",
          "height": 527
        },
        "id": "_vNOxNevPUlZ",
        "outputId": "cce84023-6313-4822-d4d5-89bf2e513e05"
      },
      "execution_count": 10,
      "outputs": [
        {
          "output_type": "display_data",
          "data": {
            "image/png": "[encoded data removed]",
            "text/plain": [
              "<Figure size 1440x1080 with 1 Axes>"
            ]
          },
          "metadata": {
            "needs_background": "light"
          }
        }
      ]
    },
    {
      "cell_type": "code",
      "source": [
        "train.fillna(train.mean(), inplace = True)\n",
        "test.fillna(train.mean(), inplace = True)\n",
        "train = pd.get_dummies(train)\n",
        "test = pd.get_dummies(test)\n",
        "\n",
        "print(train.shape)\n",
        "print(test.shape)"
      ],
      "metadata": {
        "colab": {
          "base_uri": "https://localhost:8080/"
        },
        "id": "ic50tGgdPlCV",
        "outputId": "2c7fad56-dfbc-41e8-d7b0-7f2f642a756e"
      },
      "execution_count": 11,
      "outputs": [
        {
          "output_type": "stream",
          "name": "stdout",
          "text": [
            "(9375, 11)\n",
            "(4018, 10)\n"
          ]
        }
      ]
    },
    {
      "cell_type": "code",
      "source": [
        "from sklearn.preprocessing import MinMaxScaler\n",
        "\n",
        "scaler = MinMaxScaler()\n",
        "\n",
        "train_scaler = scaler.fit_transform(train[continuous_names])\n",
        "train[continuous_names] = pd.DataFrame(data=train_scaler, columns=continuous_names)\n",
        "\n",
        "test_scaler = scaler.transform(test[continuous_names])\n",
        "test[continuous_names] = pd.DataFrame(data=test_scaler, columns=continuous_names)\n",
        "\n",
        "train[continuous_names].head()"
      ],
      "metadata": {
        "colab": {
          "base_uri": "https://localhost:8080/",
          "height": 206
        },
        "id": "OhRYASDMPpv-",
        "outputId": "bb6ab12b-ae4f-4530-d464-754df20045d2"
      },
      "execution_count": 12,
      "outputs": [
        {
          "output_type": "execute_result",
          "data": {
            "text/html": [
              "\n",
              "  <div id=\"df-105f1e6c-7199-4871-8740-0df209259e03\">\n",
              "    <div class=\"colab-df-container\">\n",
              "      <div>\n",
              "<style scoped>\n",
              "    .dataframe tbody tr th:only-of-type {\n",
              "        vertical-align: middle;\n",
              "    }\n",
              "\n",
              "    .dataframe tbody tr th {\n",
              "        vertical-align: top;\n",
              "    }\n",
              "\n",
              "    .dataframe thead th {\n",
              "        text-align: right;\n",
              "    }\n",
              "</style>\n",
              "<table border=\"1\" class=\"dataframe\">\n",
              "  <thead>\n",
              "    <tr style=\"text-align: right;\">\n",
              "      <th></th>\n",
              "      <th>age</th>\n",
              "      <th>height_cm</th>\n",
              "      <th>diastolic</th>\n",
              "      <th>systolic</th>\n",
              "      <th>gripForce</th>\n",
              "      <th>sit and bend forward_cm</th>\n",
              "      <th>sit-ups counts</th>\n",
              "      <th>broad jump_cm</th>\n",
              "    </tr>\n",
              "  </thead>\n",
              "  <tbody>\n",
              "    <tr>\n",
              "      <th>0</th>\n",
              "      <td>0.046512</td>\n",
              "      <td>0.707849</td>\n",
              "      <td>0.556978</td>\n",
              "      <td>0.711443</td>\n",
              "      <td>0.750355</td>\n",
              "      <td>0.163090</td>\n",
              "      <td>0.730769</td>\n",
              "      <td>0.768977</td>\n",
              "    </tr>\n",
              "    <tr>\n",
              "      <th>1</th>\n",
              "      <td>0.069767</td>\n",
              "      <td>0.822674</td>\n",
              "      <td>0.416133</td>\n",
              "      <td>0.626866</td>\n",
              "      <td>0.639716</td>\n",
              "      <td>0.121459</td>\n",
              "      <td>0.487179</td>\n",
              "      <td>0.838284</td>\n",
              "    </tr>\n",
              "    <tr>\n",
              "      <th>2</th>\n",
              "      <td>0.348837</td>\n",
              "      <td>0.603198</td>\n",
              "      <td>0.537772</td>\n",
              "      <td>0.646766</td>\n",
              "      <td>0.388652</td>\n",
              "      <td>0.166953</td>\n",
              "      <td>0.512821</td>\n",
              "      <td>0.613861</td>\n",
              "    </tr>\n",
              "    <tr>\n",
              "      <th>3</th>\n",
              "      <td>0.023256</td>\n",
              "      <td>0.593023</td>\n",
              "      <td>0.492958</td>\n",
              "      <td>0.646766</td>\n",
              "      <td>0.421277</td>\n",
              "      <td>0.167382</td>\n",
              "      <td>0.384615</td>\n",
              "      <td>0.603960</td>\n",
              "    </tr>\n",
              "    <tr>\n",
              "      <th>4</th>\n",
              "      <td>0.930233</td>\n",
              "      <td>0.286337</td>\n",
              "      <td>0.492958</td>\n",
              "      <td>0.646766</td>\n",
              "      <td>0.293617</td>\n",
              "      <td>0.136481</td>\n",
              "      <td>0.089744</td>\n",
              "      <td>0.415842</td>\n",
              "    </tr>\n",
              "  </tbody>\n",
              "</table>\n",
              "</div>\n",
              "      <button class=\"colab-df-convert\" onclick=\"convertToInteractive('df-105f1e6c-7199-4871-8740-0df209259e03')\"\n",
              "              title=\"Convert this dataframe to an interactive table.\"\n",
              "              style=\"display:none;\">\n",
              "        \n",
              "  <svg xmlns=\"http://www.w3.org/2000/svg\" height=\"24px\"viewBox=\"0 0 24 24\"\n",
              "       width=\"24px\">\n",
              "    <path d=\"M0 0h24v24H0V0z\" fill=\"none\"/>\n",
              "    <path d=\"M18.56 5.44l.94 2.06.94-2.06 2.06-.94-2.06-.94-.94-2.06-.94 2.06-2.06.94zm-11 1L8.5 8.5l.94-2.06 2.06-.94-2.06-.94L8.5 2.5l-.94 2.06-2.06.94zm10 10l.94 2.06.94-2.06 2.06-.94-2.06-.94-.94-2.06-.94 2.06-2.06.94z\"/><path d=\"M17.41 7.96l-1.37-1.37c-.4-.4-.92-.59-1.43-.59-.52 0-1.04.2-1.43.59L10.3 9.45l-7.72 7.72c-.78.78-.78 2.05 0 2.83L4 21.41c.39.39.9.59 1.41.59.51 0 1.02-.2 1.41-.59l7.78-7.78 2.81-2.81c.8-.78.8-2.07 0-2.86zM5.41 20L4 18.59l7.72-7.72 1.47 1.35L5.41 20z\"/>\n",
              "  </svg>\n",
              "      </button>\n",
              "      \n",
              "  <style>\n",
              "    .colab-df-container {\n",
              "      display:flex;\n",
              "      flex-wrap:wrap;\n",
              "      gap: 12px;\n",
              "    }\n",
              "\n",
              "    .colab-df-convert {\n",
              "      background-color: #E8F0FE;\n",
              "      border: none;\n",
              "      border-radius: 50%;\n",
              "      cursor: pointer;\n",
              "      display: none;\n",
              "      fill: #1967D2;\n",
              "      height: 32px;\n",
              "      padding: 0 0 0 0;\n",
              "      width: 32px;\n",
              "    }\n",
              "\n",
              "    .colab-df-convert:hover {\n",
              "      background-color: #E2EBFA;\n",
              "      box-shadow: 0px 1px 2px rgba(60, 64, 67, 0.3), 0px 1px 3px 1px rgba(60, 64, 67, 0.15);\n",
              "      fill: #174EA6;\n",
              "    }\n",
              "\n",
              "    [theme=dark] .colab-df-convert {\n",
              "      background-color: #3B4455;\n",
              "      fill: #D2E3FC;\n",
              "    }\n",
              "\n",
              "    [theme=dark] .colab-df-convert:hover {\n",
              "      background-color: #434B5C;\n",
              "      box-shadow: 0px 1px 3px 1px rgba(0, 0, 0, 0.15);\n",
              "      filter: drop-shadow(0px 1px 2px rgba(0, 0, 0, 0.3));\n",
              "      fill: #FFFFFF;\n",
              "    }\n",
              "  </style>\n",
              "\n",
              "      <script>\n",
              "        const buttonEl =\n",
              "          document.querySelector('#df-105f1e6c-7199-4871-8740-0df209259e03 button.colab-df-convert');\n",
              "        buttonEl.style.display =\n",
              "          google.colab.kernel.accessAllowed ? 'block' : 'none';\n",
              "\n",
              "        async function convertToInteractive(key) {\n",
              "          const element = document.querySelector('#df-105f1e6c-7199-4871-8740-0df209259e03');\n",
              "          const dataTable =\n",
              "            await google.colab.kernel.invokeFunction('convertToInteractive',\n",
              "                                                     [key], {});\n",
              "          if (!dataTable) return;\n",
              "\n",
              "          const docLinkHtml = 'Like what you see? Visit the ' +\n",
              "            '<a target=\"_blank\" href=https://colab.research.google.com/notebooks/data_table.ipynb>data table notebook</a>'\n",
              "            + ' to learn more about interactive tables.';\n",
              "          element.innerHTML = '';\n",
              "          dataTable['output_type'] = 'display_data';\n",
              "          await google.colab.output.renderOutput(dataTable, element);\n",
              "          const docLink = document.createElement('div');\n",
              "          docLink.innerHTML = docLinkHtml;\n",
              "          element.appendChild(docLink);\n",
              "        }\n",
              "      </script>\n",
              "    </div>\n",
              "  </div>\n",
              "  "
            ],
            "text/plain": [
              "        age  height_cm  ...  sit-ups counts  broad jump_cm\n",
              "0  0.046512   0.707849  ...        0.730769       0.768977\n",
              "1  0.069767   0.822674  ...        0.487179       0.838284\n",
              "2  0.348837   0.603198  ...        0.512821       0.613861\n",
              "3  0.023256   0.593023  ...        0.384615       0.603960\n",
              "4  0.930233   0.286337  ...        0.089744       0.415842\n",
              "\n",
              "[5 rows x 8 columns]"
            ]
          },
          "metadata": {},
          "execution_count": 12
        }
      ]
    },
    {
      "cell_type": "code",
      "source": [
        "from sklearn.ensemble import IsolationForest\n",
        "clf = IsolationForest(max_samples=1000, random_state=1)\n",
        "clf.fit(train)\n",
        "y_pred_outliers = clf.predict(train)\n"
      ],
      "metadata": {
        "id": "Iao04aVQedV6"
      },
      "execution_count": 13,
      "outputs": []
    },
    {
      "cell_type": "code",
      "source": [
        "train.drop(train[y_pred_outliers==-1].index, inplace=True)"
      ],
      "metadata": {
        "id": "VmZqPBKHe2Mw"
      },
      "execution_count": 14,
      "outputs": []
    },
    {
      "cell_type": "code",
      "source": [
        "train_label = train['body fat_%']\n",
        "train.drop([\"body fat_%\"], axis = 1, inplace = True)"
      ],
      "metadata": {
        "id": "SBos-3Q7Ptwg"
      },
      "execution_count": 15,
      "outputs": []
    },
    {
      "cell_type": "code",
      "source": [
        "from sklearn.linear_model import Ridge\n",
        "from sklearn import svm\n",
        "from sklearn.ensemble import RandomForestRegressor\n",
        "from xgboost import XGBRegressor\n",
        "from sklearn.model_selection import cross_val_score\n",
        "\n",
        "alphas = [i for i in range(1, 21)]\n",
        "\n",
        "for alpha in alphas:\n",
        "    ridge = Ridge(alpha=alpha)\n",
        "    \n",
        "    neg_mse_scores = cross_val_score(ridge, train, train_label, scoring = 'neg_mean_squared_error', cv = 5)\n",
        "    avg_rmse = np.mean(np.sqrt(-neg_mse_scores))\n",
        "    print('alpha 값 ', alpha, '일때 평균 rmse :', np.round(avg_rmse,4))"
      ],
      "metadata": {
        "colab": {
          "base_uri": "https://localhost:8080/"
        },
        "id": "d3KrIdWRP0bc",
        "outputId": "34dd705f-b1a8-4fa3-828f-efc01d8a19ef"
      },
      "execution_count": 28,
      "outputs": [
        {
          "output_type": "stream",
          "name": "stdout",
          "text": [
            "alpha 값  1 일때 평균 rmse : 4.7627\n",
            "alpha 값  2 일때 평균 rmse : 4.7643\n",
            "alpha 값  3 일때 평균 rmse : 4.7664\n",
            "alpha 값  4 일때 평균 rmse : 4.7689\n",
            "alpha 값  5 일때 평균 rmse : 4.7717\n",
            "alpha 값  6 일때 평균 rmse : 4.7747\n",
            "alpha 값  7 일때 평균 rmse : 4.7778\n",
            "alpha 값  8 일때 평균 rmse : 4.7809\n",
            "alpha 값  9 일때 평균 rmse : 4.7842\n",
            "alpha 값  10 일때 평균 rmse : 4.7875\n",
            "alpha 값  11 일때 평균 rmse : 4.7909\n",
            "alpha 값  12 일때 평균 rmse : 4.7942\n",
            "alpha 값  13 일때 평균 rmse : 4.7976\n",
            "alpha 값  14 일때 평균 rmse : 4.801\n",
            "alpha 값  15 일때 평균 rmse : 4.8044\n",
            "alpha 값  16 일때 평균 rmse : 4.8078\n",
            "alpha 값  17 일때 평균 rmse : 4.8112\n",
            "alpha 값  18 일때 평균 rmse : 4.8145\n",
            "alpha 값  19 일때 평균 rmse : 4.8179\n",
            "alpha 값  20 일때 평균 rmse : 4.8212\n"
          ]
        }
      ]
    },
    {
      "cell_type": "code",
      "source": [
        "from sklearn.linear_model import Ridge\n",
        "from sklearn import svm\n",
        "from sklearn.ensemble import RandomForestRegressor\n",
        "from xgboost import XGBRegressor\n",
        "from sklearn.model_selection import cross_val_score\n",
        "\n",
        "alphas = [i for i in range(1, 121)]\n",
        "\n",
        "for alpha in alphas:\n",
        "    ridge = svm.SVR(C=alpha)\n",
        "    \n",
        "    neg_mse_scores = cross_val_score(ridge, train, train_label, scoring = 'neg_mean_absolute_error', cv = 5)\n",
        "    avg_rmse = np.mean(np.sqrt(-neg_mse_scores))\n",
        "    print('alpha 값 ', alpha, '일때 평균 rmse :', np.round(avg_rmse,4))"
      ],
      "metadata": {
        "colab": {
          "base_uri": "https://localhost:8080/"
        },
        "outputId": "eafda311-d9b9-4deb-d470-041924f83018",
        "id": "6Bf23bk9ReLQ"
      },
      "execution_count": null,
      "outputs": [
        {
          "output_type": "stream",
          "name": "stdout",
          "text": [
            "alpha 값  1 일때 평균 rmse : 1.932\n",
            "alpha 값  2 일때 평균 rmse : 1.9286\n",
            "alpha 값  3 일때 평균 rmse : 1.9277\n",
            "alpha 값  4 일때 평균 rmse : 1.9272\n",
            "alpha 값  5 일때 평균 rmse : 1.9269\n",
            "alpha 값  6 일때 평균 rmse : 1.9267\n",
            "alpha 값  7 일때 평균 rmse : 1.9266\n",
            "alpha 값  8 일때 평균 rmse : 1.9265\n",
            "alpha 값  9 일때 평균 rmse : 1.9265\n",
            "alpha 값  10 일때 평균 rmse : 1.9266\n",
            "alpha 값  11 일때 평균 rmse : 1.9266\n",
            "alpha 값  12 일때 평균 rmse : 1.9265\n",
            "alpha 값  13 일때 평균 rmse : 1.9265\n",
            "alpha 값  14 일때 평균 rmse : 1.9265\n",
            "alpha 값  15 일때 평균 rmse : 1.9265\n"
          ]
        }
      ]
    },
    {
      "cell_type": "code",
      "source": [
        "ridge = svm.SVR(C=16)\n",
        "ridge.fit(train, train_label)\n",
        "sample_submission[\"predict\"] = ridge.predict(test)\n",
        "\n",
        "sample_submission.to_csv('my_submit.csv',index=False)"
      ],
      "metadata": {
        "id": "xOOj3fFhP8YE"
      },
      "execution_count": 34,
      "outputs": []
    }
  ]
}